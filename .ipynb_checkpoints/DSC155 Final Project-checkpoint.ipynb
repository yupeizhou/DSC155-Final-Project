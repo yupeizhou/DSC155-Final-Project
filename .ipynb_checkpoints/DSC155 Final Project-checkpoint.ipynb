{
 "cells": [
  {
   "cell_type": "markdown",
   "metadata": {},
   "source": [
    "## Introduction"
   ]
  },
  {
   "cell_type": "code",
   "execution_count": 1,
   "metadata": {},
   "outputs": [],
   "source": [
    "import pandas as pd\n",
    "import numpy as np\n",
    "import seaborn as sns\n",
    "import matplotlib.pyplot as plt\n",
    "%matplotlib inline"
   ]
  },
  {
   "cell_type": "markdown",
   "metadata": {},
   "source": [
    "## Data Cleaning and Preprocessing"
   ]
  },
  {
   "cell_type": "code",
   "execution_count": 2,
   "metadata": {},
   "outputs": [],
   "source": [
    "# Import datasets\n",
    "pitching_ratio = pd.read_csv('Pitching Data/Pitching Ratio.csv')\n",
    "standard_pitching = pd.read_csv('Pitching Data/Standard Pitching.csv')\n",
    "win_probability = pd.read_csv('Pitching Data/Win Probability.csv')\n",
    "pitches = pd.read_csv('Pitching Data/Pitches.csv')"
   ]
  },
  {
   "cell_type": "code",
   "execution_count": 3,
   "metadata": {},
   "outputs": [],
   "source": [
    "# Merge datasets\n",
    "cols = pitching_ratio.columns.difference(standard_pitching.columns)\n",
    "df = pd.merge(standard_pitching, pitching_ratio[cols], left_index = True, right_index = True)\n",
    "\n",
    "cols = win_probability.columns.difference(df.columns)\n",
    "df = pd.merge(df, win_probability[cols], left_index = True, right_index = True)\n",
    "\n",
    "cols = pitches.columns.difference(df.columns)\n",
    "df = pd.merge(df, pitches[cols], left_index = True, right_index = True)"
   ]
  },
  {
   "cell_type": "code",
   "execution_count": 4,
   "metadata": {},
   "outputs": [],
   "source": [
    "# Select a subset of data to run analysis, drop missing data and irrelevant columns\n",
    "# rename some columns for clarification\n",
    "df = df[~df.isnull().any(axis = 1)]\n",
    "df = df.drop(columns = ['Rk'])\n",
    "df = df.rename(columns = {'Lg': 'League', 'Tm': 'Team'})"
   ]
  },
  {
   "cell_type": "code",
   "execution_count": 5,
   "metadata": {},
   "outputs": [
    {
     "data": {
      "text/html": [
       "<div>\n",
       "<style scoped>\n",
       "    .dataframe tbody tr th:only-of-type {\n",
       "        vertical-align: middle;\n",
       "    }\n",
       "\n",
       "    .dataframe tbody tr th {\n",
       "        vertical-align: top;\n",
       "    }\n",
       "\n",
       "    .dataframe thead th {\n",
       "        text-align: right;\n",
       "    }\n",
       "</style>\n",
       "<table border=\"1\" class=\"dataframe\">\n",
       "  <thead>\n",
       "    <tr style=\"text-align: right;\">\n",
       "      <th></th>\n",
       "      <th>Name</th>\n",
       "      <th>Age</th>\n",
       "      <th>Team</th>\n",
       "      <th>League</th>\n",
       "      <th>GS</th>\n",
       "      <th>W</th>\n",
       "      <th>L</th>\n",
       "      <th>W-L%</th>\n",
       "      <th>ERA</th>\n",
       "      <th>IP</th>\n",
       "      <th>...</th>\n",
       "      <th>Con</th>\n",
       "      <th>F/Str</th>\n",
       "      <th>I/Bll</th>\n",
       "      <th>I/Str</th>\n",
       "      <th>L/SO%</th>\n",
       "      <th>L/Str</th>\n",
       "      <th>Pit/PA</th>\n",
       "      <th>S/Str</th>\n",
       "      <th>Str%</th>\n",
       "      <th>Pitcher Role</th>\n",
       "    </tr>\n",
       "  </thead>\n",
       "  <tbody>\n",
       "    <tr>\n",
       "      <td>0</td>\n",
       "      <td>Fernando Abad*\\abadfe01</td>\n",
       "      <td>33</td>\n",
       "      <td>SFG</td>\n",
       "      <td>NL</td>\n",
       "      <td>0</td>\n",
       "      <td>0</td>\n",
       "      <td>2</td>\n",
       "      <td>0.000</td>\n",
       "      <td>4.15</td>\n",
       "      <td>13.0</td>\n",
       "      <td>...</td>\n",
       "      <td>73.90%</td>\n",
       "      <td>12.60%</td>\n",
       "      <td>0.00%</td>\n",
       "      <td>33.30%</td>\n",
       "      <td>66.70%</td>\n",
       "      <td>37.80%</td>\n",
       "      <td>3.49</td>\n",
       "      <td>16.20%</td>\n",
       "      <td>64.90%</td>\n",
       "      <td>Non-Starter</td>\n",
       "    </tr>\n",
       "    <tr>\n",
       "      <td>2</td>\n",
       "      <td>Jason Adam\\adamja01</td>\n",
       "      <td>27</td>\n",
       "      <td>TOR</td>\n",
       "      <td>AL</td>\n",
       "      <td>0</td>\n",
       "      <td>3</td>\n",
       "      <td>0</td>\n",
       "      <td>1.000</td>\n",
       "      <td>2.91</td>\n",
       "      <td>21.2</td>\n",
       "      <td>...</td>\n",
       "      <td>71.90%</td>\n",
       "      <td>29.70%</td>\n",
       "      <td>0.00%</td>\n",
       "      <td>26.20%</td>\n",
       "      <td>27.80%</td>\n",
       "      <td>22.30%</td>\n",
       "      <td>4.36</td>\n",
       "      <td>21.80%</td>\n",
       "      <td>57.70%</td>\n",
       "      <td>Non-Starter</td>\n",
       "    </tr>\n",
       "    <tr>\n",
       "      <td>4</td>\n",
       "      <td>Austin Adams\\adamsau02</td>\n",
       "      <td>28</td>\n",
       "      <td>TOT</td>\n",
       "      <td>MLB</td>\n",
       "      <td>2</td>\n",
       "      <td>2</td>\n",
       "      <td>2</td>\n",
       "      <td>0.500</td>\n",
       "      <td>3.94</td>\n",
       "      <td>32.0</td>\n",
       "      <td>...</td>\n",
       "      <td>59.80%</td>\n",
       "      <td>24.60%</td>\n",
       "      <td>0.00%</td>\n",
       "      <td>17.80%</td>\n",
       "      <td>26.40%</td>\n",
       "      <td>29.10%</td>\n",
       "      <td>4.16</td>\n",
       "      <td>28.50%</td>\n",
       "      <td>62.30%</td>\n",
       "      <td>Non-Starter</td>\n",
       "    </tr>\n",
       "    <tr>\n",
       "      <td>5</td>\n",
       "      <td>Chance Adams\\adamsch01</td>\n",
       "      <td>24</td>\n",
       "      <td>NYY</td>\n",
       "      <td>AL</td>\n",
       "      <td>0</td>\n",
       "      <td>1</td>\n",
       "      <td>1</td>\n",
       "      <td>0.500</td>\n",
       "      <td>8.53</td>\n",
       "      <td>25.1</td>\n",
       "      <td>...</td>\n",
       "      <td>81.90%</td>\n",
       "      <td>33.90%</td>\n",
       "      <td>0.00%</td>\n",
       "      <td>28.10%</td>\n",
       "      <td>30.40%</td>\n",
       "      <td>24.30%</td>\n",
       "      <td>4.19</td>\n",
       "      <td>13.70%</td>\n",
       "      <td>60.30%</td>\n",
       "      <td>Non-Starter</td>\n",
       "    </tr>\n",
       "    <tr>\n",
       "      <td>7</td>\n",
       "      <td>Dario Agrazal\\agrazda01</td>\n",
       "      <td>24</td>\n",
       "      <td>PIT</td>\n",
       "      <td>NL</td>\n",
       "      <td>14</td>\n",
       "      <td>4</td>\n",
       "      <td>5</td>\n",
       "      <td>0.444</td>\n",
       "      <td>4.91</td>\n",
       "      <td>73.1</td>\n",
       "      <td>...</td>\n",
       "      <td>84.10%</td>\n",
       "      <td>25.70%</td>\n",
       "      <td>0.00%</td>\n",
       "      <td>33.90%</td>\n",
       "      <td>43.90%</td>\n",
       "      <td>29.10%</td>\n",
       "      <td>3.58</td>\n",
       "      <td>11.30%</td>\n",
       "      <td>64.70%</td>\n",
       "      <td>Starter</td>\n",
       "    </tr>\n",
       "  </tbody>\n",
       "</table>\n",
       "<p>5 rows × 58 columns</p>\n",
       "</div>"
      ],
      "text/plain": [
       "                      Name  Age Team League  GS  W  L   W-L%   ERA    IP  ...  \\\n",
       "0  Fernando Abad*\\abadfe01   33  SFG     NL   0  0  2  0.000  4.15  13.0  ...   \n",
       "2      Jason Adam\\adamja01   27  TOR     AL   0  3  0  1.000  2.91  21.2  ...   \n",
       "4   Austin Adams\\adamsau02   28  TOT    MLB   2  2  2  0.500  3.94  32.0  ...   \n",
       "5   Chance Adams\\adamsch01   24  NYY     AL   0  1  1  0.500  8.53  25.1  ...   \n",
       "7  Dario Agrazal\\agrazda01   24  PIT     NL  14  4  5  0.444  4.91  73.1  ...   \n",
       "\n",
       "      Con   F/Str  I/Bll   I/Str   L/SO%   L/Str  Pit/PA   S/Str    Str%  \\\n",
       "0  73.90%  12.60%  0.00%  33.30%  66.70%  37.80%    3.49  16.20%  64.90%   \n",
       "2  71.90%  29.70%  0.00%  26.20%  27.80%  22.30%    4.36  21.80%  57.70%   \n",
       "4  59.80%  24.60%  0.00%  17.80%  26.40%  29.10%    4.16  28.50%  62.30%   \n",
       "5  81.90%  33.90%  0.00%  28.10%  30.40%  24.30%    4.19  13.70%  60.30%   \n",
       "7  84.10%  25.70%  0.00%  33.90%  43.90%  29.10%    3.58  11.30%  64.70%   \n",
       "\n",
       "   Pitcher Role  \n",
       "0   Non-Starter  \n",
       "2   Non-Starter  \n",
       "4   Non-Starter  \n",
       "5   Non-Starter  \n",
       "7       Starter  \n",
       "\n",
       "[5 rows x 58 columns]"
      ]
     },
     "execution_count": 5,
     "metadata": {},
     "output_type": "execute_result"
    }
   ],
   "source": [
    "# Define categories for classification\n",
    "df['Pitcher Role'] = df['GS'].apply(lambda x: 'Starter' if x >= 10 else 'Non-Starter')\n",
    "df.head()"
   ]
  },
  {
   "cell_type": "code",
   "execution_count": 6,
   "metadata": {},
   "outputs": [],
   "source": [
    "# Split data set into numeric and categorical data\n",
    "player = df[['Name', 'Team', 'League', 'Age', 'Pitcher Role']]\n",
    "pitching = df.drop(['Name', 'Team', 'League', 'Age', 'IP', 'GS', 'Pitcher Role'], axis = 1)"
   ]
  },
  {
   "cell_type": "code",
   "execution_count": 7,
   "metadata": {},
   "outputs": [],
   "source": [
    "# Convert percentage info into float\n",
    "for col in pitching.columns:\n",
    "    if pitching[col].dtypes == 'O':\n",
    "        pitching[col] = pitching[col].apply(lambda x: float(x.strip('%')) / 100)"
   ]
  },
  {
   "cell_type": "markdown",
   "metadata": {},
   "source": [
    "## Principal Component Analysis"
   ]
  },
  {
   "cell_type": "code",
   "execution_count": 8,
   "metadata": {},
   "outputs": [],
   "source": [
    "# Normalize data\n",
    "def normalize(lst):\n",
    "    mean = np.mean(lst)\n",
    "    return [(x - mean) / np.sqrt(len(lst)) for x in lst]\n",
    "normalized_pitching = pitching.apply(normalize)\n",
    "normalized_pitching = normalized_pitching.T"
   ]
  },
  {
   "cell_type": "code",
   "execution_count": 9,
   "metadata": {},
   "outputs": [
    {
     "data": {
      "image/png": "[encoded data removed]",
      "text/plain": [
       "<Figure size 432x288 with 1 Axes>"
      ]
     },
     "metadata": {
      "needs_background": "light"
     },
     "output_type": "display_data"
    }
   ],
   "source": [
    "# Look at distribution of eigenvalues of the sample covariance matrix\n",
    "m, N = normalized_pitching.shape\n",
    "C = 1/N * normalized_pitching @ normalized_pitching.T\n",
    "eigvals, eigvecs = np.linalg.eig(C) \n",
    "plt.hist(eigvals, density = True, bins  = 25)\n",
    "plt.show()"
   ]
  },
  {
   "cell_type": "code",
   "execution_count": 10,
   "metadata": {},
   "outputs": [],
   "source": [
    "# Decide an appropriate dimension and run PCA\n",
    "u, s, vt = np.linalg.svd(normalized_pitching, full_matrices = False)\n",
    "Q = u[:, np.array((0, 1))]\n",
    "mu = pitching.mean(axis = 0).to_numpy()\n",
    "mu.shape = (mu.size, 1)"
   ]
  },
  {
   "cell_type": "code",
   "execution_count": 11,
   "metadata": {},
   "outputs": [],
   "source": [
    "# Project data set onto principal components\n",
    "beta_2d = (1/np.sqrt(N) * Q.T @ normalized_pitching).to_numpy()\n",
    "beta_bar = Q.T @ mu\n",
    "pitching_2d = beta_2d + beta_bar"
   ]
  },
  {
   "cell_type": "code",
   "execution_count": 12,
   "metadata": {},
   "outputs": [
    {
     "data": {
      "text/plain": [
       "<matplotlib.axes._subplots.AxesSubplot at 0x1862ee719c8>"
      ]
     },
     "execution_count": 12,
     "metadata": {},
     "output_type": "execute_result"
    },
    {
     "data": {
      "image/png": "[encoded data removed]",
      "text/plain": [
       "<Figure size 648x432 with 1 Axes>"
      ]
     },
     "metadata": {
      "needs_background": "light"
     },
     "output_type": "display_data"
    }
   ],
   "source": [
    "# Plot the projected data, hued by Pitcher Role (Starter vs. Non-Starter)\n",
    "plt.figure(figsize = (9, 6))\n",
    "plt.title(\"PC1 for Pitching Data\")\n",
    "plt.xlabel(\"Pitching PC1\")\n",
    "plt.ylabel(\"Pitching PC2\")\n",
    "sns.scatterplot(x = pitching_2d[0, :], y = pitching_2d[1, :], hue = player['Pitcher Role'])"
   ]
  },
  {
   "cell_type": "markdown",
   "metadata": {},
   "source": [
    "## Logistic Regression after PCA"
   ]
  },
  {
   "cell_type": "markdown",
   "metadata": {},
   "source": [
    "## Conclusion"
   ]
  },
  {
   "cell_type": "code",
   "execution_count": null,
   "metadata": {},
   "outputs": [],
   "source": []
  }
 ],
 "metadata": {
  "kernelspec": {
   "display_name": "Python 3",
   "language": "python",
   "name": "python3"
  },
  "language_info": {
   "codemirror_mode": {
    "name": "ipython",
    "version": 3
   },
   "file_extension": ".py",
   "mimetype": "text/x-python",
   "name": "python",
   "nbconvert_exporter": "python",
   "pygments_lexer": "ipython3",
   "version": "3.7.4"
  }
 },
 "nbformat": 4,
 "nbformat_minor": 2
}
